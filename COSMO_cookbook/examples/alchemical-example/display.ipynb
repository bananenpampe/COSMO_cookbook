{
 "cells": [
  {
   "cell_type": "code",
   "execution_count": 1,
   "id": "9f214c0e-72b6-4401-8fc4-7d25f2169472",
   "metadata": {},
   "outputs": [],
   "source": [
    "import numpy as np\n",
    "from matplotlib import pyplot as plt"
   ]
  },
  {
   "cell_type": "code",
   "execution_count": 9,
   "id": "5bbd7a44-c2d8-49f2-a16e-d14e7378c71a",
   "metadata": {},
   "outputs": [
    {
     "name": "stdout",
     "output_type": "stream",
     "text": [
      "env: TEST_RUN=\n"
     ]
    }
   ],
   "source": [
    "# set to one to run the tests in the notebook\n",
    "%env TEST_RUN="
   ]
  },
  {
   "cell_type": "markdown",
   "id": "6302a752-229f-40d7-9b94-cb5efa5c1427",
   "metadata": {},
   "source": [
    "An alchemical model for high-entropy alloys.\n",
    "============================================\n",
    "\n",
    "This example shows how to train a potential that can model the energetics of bulk phases containing up to 25 transition metals.  The potential uses atom-centered correlation features: it first describes the neighborhood $A_i$ of each atom in the system in terms of the density of its neighbors, and then computes symmetrized tensor products of this density to obtain an invariant basis to express the functional relation between a structure and its energy, \n",
    "\n",
    "$$\n",
    "E(A) = \\sum_i E(A_i) \n",
    "$$\n",
    "\n",
    "Each element yields a separate channel in the neighbor density, which translates in a steep increase of memory and computational requirements as one computes correlation functions of a many-element system: two-neighbor correlations require $n_species^2$ entries, and so on.\n",
    "\n",
    "An alchemical compression scheme cf. [Willat et al, PCCP (2018)](https://doi.org/10.1039/c8cp05921g) avoids this problem by projecting the neighbor density on a lower-dimensional space of \"pseudo-elements\". "
   ]
  },
  {
   "cell_type": "code",
   "execution_count": null,
   "id": "e31c0340-2f28-44fd-9d36-b88620ae48f9",
   "metadata": {},
   "outputs": [],
   "source": []
  },
  {
   "cell_type": "markdown",
   "id": "d86c8ae5-a9cf-41a2-b37f-af84675869b8",
   "metadata": {},
   "source": [
    "## Preparation\n",
    "\n",
    "Make sure you install the packages listed in `requirements.txt`. These are pinned to very specific versions of these codes: there is no guarantee that this example will work with more recent versions of these packages. Furthermore, you should separately clone the `alchemical-learning` repository. \n",
    "\n",
    "```\n",
    "git clone git@github.com:Luthaf/alchemical-learning.git\n",
    "```"
   ]
  },
  {
   "cell_type": "code",
   "execution_count": 11,
   "id": "125c421c-5d7c-4f30-8589-9bdf3bc4cf03",
   "metadata": {
    "tags": [
     "test_cell"
    ]
   },
   "outputs": [],
   "source": [
    "%%script bash --no-raise-error\n",
    "if [ -z $TEST_RUN ]; then exit; fi\n",
    "git clone git@github.com:Luthaf/alchemical-learning.git"
   ]
  },
  {
   "cell_type": "markdown",
   "id": "f0ad69fb-7543-44a9-8250-48b10e5f6480",
   "metadata": {},
   "source": [
    "## Training the potential\n",
    "\n",
    "You can fetch a data file containing approximately 25'000 configurations (including distorted _fcc_ and _bcc_ structures with up to 25 elements) from a\n",
    "** public repository **\n",
    "\n",
    "```\n",
    "wget https://www.dropbox.com/s/9jzgn2r76rmb588/data_shuffle_final.xyz?dl=1\n",
    "``` "
   ]
  },
  {
   "cell_type": "code",
   "execution_count": 12,
   "id": "24ca5b1f-ed55-4a78-adac-6b0658f623ab",
   "metadata": {
    "tags": [
     "test_cell"
    ]
   },
   "outputs": [],
   "source": [
    "%%script bash \n",
    "if [ -z $TEST_RUN ]; then exit; fi\n",
    "wget https://www.dropbox.com/s/9jzgn2r76rmb588/data_shuffle_final.xyz?dl=1 -O data_shuffle_final.xyz"
   ]
  },
  {
   "cell_type": "markdown",
   "id": "ef5e9757-669a-43f2-965d-dddc82c2aed0",
   "metadata": {},
   "source": [
    "** explain how to run the training ** "
   ]
  },
  {
   "cell_type": "code",
   "execution_count": 13,
   "id": "d83f51a7-5fb6-404c-bdb6-c45f81d170d2",
   "metadata": {},
   "outputs": [
    {
     "data": {
      "text/plain": [
       "Text(0, 0.5, 'DFT energy / eV')"
      ]
     },
     "execution_count": 13,
     "metadata": {},
     "output_type": "execute_result"
    },
    {
     "data": {
      "image/png": "[encoded data removed]",
      "text/plain": [
       "<Figure size 432x288 with 1 Axes>"
      ]
     },
     "metadata": {
      "needs_background": "light"
     },
     "output_type": "display_data"
    }
   ],
   "source": [
    "test_energies = np.loadtxt('reference_data/potential/energy_test.dat')\n",
    "plt.plot(test_energies[:,0], test_energies[:,1], 'r,')\n",
    "plt.xlabel('ML energy / eV')\n",
    "plt.ylabel('DFT energy / eV')"
   ]
  },
  {
   "cell_type": "code",
   "execution_count": 14,
   "id": "79142c95-314c-4d73-ba88-79349b0d29b3",
   "metadata": {
    "tags": [
     "test_cell"
    ]
   },
   "outputs": [],
   "source": [
    "%%script bash\n",
    "if [ -z $TEST_RUN ]; then exit; fi\n",
    "python alchemical-learning/fit-alchemical-potential.py test_data/test_data.xyz test_data/train-test_model.json"
   ]
  },
  {
   "cell_type": "markdown",
   "id": "4725a538-f0f5-4999-94d7-93a7f637764a",
   "metadata": {},
   "source": [
    "## Simulating segregation in a Cantor-style equimolar high-entropy alloy"
   ]
  },
  {
   "cell_type": "markdown",
   "id": "65ab1d3d-beae-46ff-b43f-7829c7005388",
   "metadata": {},
   "source": []
  },
  {
   "cell_type": "code",
   "execution_count": 15,
   "id": "66598bc6-b51e-4afb-b78b-339a05ea4522",
   "metadata": {
    "tags": [
     "test_cell"
    ]
   },
   "outputs": [],
   "source": [
    "%%script bash\n",
    "if [ -z $TEST_RUN ]; then exit; fi\n",
    "i-pi test_data/test_ipi.xml &\n",
    "sleep 4\n",
    "i-pi-py_driver -a hea_ipi_test -u -m alchemical -o reference_data/potential/best.torch,reference_data/potential/parameters.json,all-hea-125.extxyz &\n",
    "i-pi-py_driver -a hea_ipi_test -u -m alchemical -o reference_data/potential/best.torch,reference_data/potential/parameters.json,all-hea-125.extxyz &\n",
    "wait"
   ]
  },
  {
   "cell_type": "code",
   "execution_count": 18,
   "id": "b5f9c0c5-34fe-4620-9b7c-d750c077d306",
   "metadata": {
    "tags": [
     "test_cell"
    ]
   },
   "outputs": [
    {
     "name": "stdout",
     "output_type": "stream",
     "text": [
      "ciao\n"
     ]
    }
   ],
   "source": [
    "# programmatically skip execution of this cell\n",
    "import os\n",
    "if os.environ.get('TEST_RUN'):\n",
    "    dfadfa"
   ]
  },
  {
   "cell_type": "code",
   "execution_count": null,
   "id": "e1360595-77e7-4d60-9783-a2893813b926",
   "metadata": {},
   "outputs": [],
   "source": []
  }
 ],
 "metadata": {
  "kernelspec": {
   "display_name": "Python 3",
   "language": "python",
   "name": "python3"
  },
  "language_info": {
   "codemirror_mode": {
    "name": "ipython",
    "version": 3
   },
   "file_extension": ".py",
   "mimetype": "text/x-python",
   "name": "python",
   "nbconvert_exporter": "python",
   "pygments_lexer": "ipython3",
   "version": "3.8.10"
  }
 },
 "nbformat": 4,
 "nbformat_minor": 5
}
