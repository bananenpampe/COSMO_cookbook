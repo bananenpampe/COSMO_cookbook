{
 "cells": [
  {
   "cell_type": "code",
   "execution_count": 6,
   "id": "2eea031e",
   "metadata": {},
   "outputs": [],
   "source": [
    "from skcosmo.preprocessing import StandardFlexibleScaler\n",
    "import numpy as np"
   ]
  },
  {
   "cell_type": "code",
   "execution_count": 42,
   "id": "929d58ff",
   "metadata": {},
   "outputs": [],
   "source": [
    "X = np.random.normal(1, 2, (100,100))"
   ]
  },
  {
   "cell_type": "code",
   "execution_count": 43,
   "id": "e8a3bcce",
   "metadata": {},
   "outputs": [
    {
     "data": {
      "text/plain": [
       "4.056760171116331"
      ]
     },
     "execution_count": 43,
     "metadata": {},
     "output_type": "execute_result"
    }
   ],
   "source": [
    "np.var(X)"
   ]
  },
  {
   "cell_type": "code",
   "execution_count": 44,
   "id": "1becae6f",
   "metadata": {},
   "outputs": [
    {
     "data": {
      "text/plain": [
       "1.006707767574682"
      ]
     },
     "execution_count": 44,
     "metadata": {},
     "output_type": "execute_result"
    }
   ],
   "source": [
    "np.mean(X)"
   ]
  },
  {
   "cell_type": "code",
   "execution_count": 45,
   "id": "f6664083",
   "metadata": {},
   "outputs": [],
   "source": [
    "X = StandardFlexibleScaler().fit_transform(X)"
   ]
  },
  {
   "cell_type": "code",
   "execution_count": 46,
   "id": "cf8e1db4",
   "metadata": {},
   "outputs": [
    {
     "data": {
      "text/plain": [
       "2.9309887850104133e-18"
      ]
     },
     "execution_count": 46,
     "metadata": {},
     "output_type": "execute_result"
    }
   ],
   "source": [
    "np.mean(X)"
   ]
  },
  {
   "cell_type": "code",
   "execution_count": 47,
   "id": "3e094cd5",
   "metadata": {},
   "outputs": [
    {
     "data": {
      "text/plain": [
       "0.010000000000000002"
      ]
     },
     "execution_count": 47,
     "metadata": {},
     "output_type": "execute_result"
    }
   ],
   "source": [
    "np.var(X)"
   ]
  },
  {
   "cell_type": "code",
   "execution_count": null,
   "id": "bfc69df7",
   "metadata": {},
   "outputs": [],
   "source": []
  }
 ],
 "metadata": {
  "kernelspec": {
   "display_name": "Python 3 (ipykernel)",
   "language": "python",
   "name": "python3"
  },
  "language_info": {
   "codemirror_mode": {
    "name": "ipython",
    "version": 3
   },
   "file_extension": ".py",
   "mimetype": "text/x-python",
   "name": "python",
   "nbconvert_exporter": "python",
   "pygments_lexer": "ipython3",
   "version": "3.9.12"
  }
 },
 "nbformat": 4,
 "nbformat_minor": 5
}
