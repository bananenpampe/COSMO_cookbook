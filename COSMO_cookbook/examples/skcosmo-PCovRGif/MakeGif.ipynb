{
 "cells": [
  {
   "cell_type": "code",
   "execution_count": 1,
   "id": "c3000575",
   "metadata": {},
   "outputs": [],
   "source": [
    "import os\n",
    "\n",
    "import numpy as np\n",
    "\n",
    "from matplotlib import pyplot as plt\n",
    "from matplotlib import cm\n",
    "from matplotlib import image as mpimg\n",
    "\n",
    "from skcosmo.datasets import load_csd_1000r\n",
    "from sklearn.preprocessing import StandardScaler\n",
    "from sklearn.linear_model import Ridge\n",
    "from skcosmo.decomposition import PCovR\n",
    "\n",
    "from scipy.stats import pearsonr\n",
    "from shutil import copy\n",
    "from PIL import Image as im\n",
    "import io\n",
    "from IPython import display\n",
    "\n",
    "def fig2img(fig):\n",
    "    buf = io.BytesIO()\n",
    "    fig.savefig(buf)\n",
    "    buf.seek(0)\n",
    "    img = im.open(buf)\n",
    "    return img\n",
    "\n",
    "cmapX = cm.plasma"
   ]
  },
  {
   "cell_type": "code",
   "execution_count": 2,
   "id": "c51566bd",
   "metadata": {},
   "outputs": [],
   "source": [
    "X, y = load_csd_1000r(return_X_y=True)\n",
    "y = y.reshape(X.shape[0], -1)\n",
    "\n",
    "X_scaler = StandardScaler()\n",
    "X_scaled = X_scaler.fit_transform(X)\n",
    "\n",
    "y_scaler = StandardScaler()\n",
    "y_scaled = y_scaler.fit_transform(y)"
   ]
  },
  {
   "cell_type": "code",
   "execution_count": 3,
   "id": "4f02a9f9",
   "metadata": {},
   "outputs": [],
   "source": [
    "alphas = np.array(\n",
    "    list(\n",
    "        sorted(\n",
    "            set(\n",
    "                [\n",
    "                    *[round(x, 6) for x in np.linspace(0, 1, 101)],\n",
    "                ]\n",
    "            )\n",
    "        )\n",
    "    )\n",
    ")\n",
    "alphas = alphas[alphas <= 1.0].tolist()"
   ]
  },
  {
   "cell_type": "code",
   "execution_count": 4,
   "id": "215a29e7",
   "metadata": {},
   "outputs": [],
   "source": [
    "regressor = Ridge(alpha=1e-4, fit_intercept=False).fit(X_scaled, y_scaled)\n",
    "T = np.array([\n",
    "    PCovR(mixing=alpha, regressor=regressor)\n",
    "    .fit(X_scaled, y_scaled)\n",
    "    .transform(X_scaled)\n",
    "    for alpha in alphas\n",
    "])"
   ]
  },
  {
   "cell_type": "code",
   "execution_count": 5,
   "id": "4fba0967",
   "metadata": {},
   "outputs": [
    {
     "name": "stderr",
     "output_type": "stream",
     "text": [
      "/opt/miniconda3/lib/python3.9/site-packages/scipy/stats/_stats_py.py:4424: ConstantInputWarning: An input array is constant; the correlation coefficient is not defined.\n",
      "  warnings.warn(stats.ConstantInputWarning(msg))\n"
     ]
    }
   ],
   "source": [
    "# fix mirrors\n",
    "\n",
    "for i in range(1, len(T)):\n",
    "    for dim in range(T[i].shape[1]):\n",
    "        if pearsonr(T[i, :, dim], T[i-1, :, dim])[0]<0:\n",
    "            T[i, :, dim] *= -1"
   ]
  },
  {
   "cell_type": "code",
   "execution_count": 6,
   "id": "8316f363",
   "metadata": {},
   "outputs": [],
   "source": [
    "images = []\n",
    "for a, t in zip(alphas, T):\n",
    "    fig, ax = plt.subplots(1, 1, figsize=(3, 3))\n",
    "    ax.scatter(t[:, 0], t[:, 1], c=y, marker=\"o\", s=3, rasterized=True, cmap=cmapX)\n",
    "    ax.set_xlabel = (r\"$\\mathbf{PCov}_2$\",)\n",
    "    ax.set_ylabel = (r\"$\\mathbf{PCov}_1$\",)\n",
    "\n",
    "    ax.set_xticks([])\n",
    "    ax.set_yticks([])\n",
    "    ax.annotate(\n",
    "        xy=(0.05, 0.95),\n",
    "        text=r\"$\\alpha=$\" + str(round(a, 3)),\n",
    "        xycoords=\"axes fraction\",\n",
    "        ha=\"left\",\n",
    "        va=\"top\",\n",
    "        fontsize=12,\n",
    "    )\n",
    "\n",
    "    images.append(fig2img(fig))\n",
    "    if a in [0, 1]:\n",
    "        for l in 'ABCDEFGHIJ':\n",
    "            images.append(fig2img(fig))\n",
    "    plt.cla()\n",
    "    plt.close()"
   ]
  },
  {
   "cell_type": "code",
   "execution_count": 7,
   "id": "84a756c3",
   "metadata": {},
   "outputs": [],
   "source": [
    "images[0].save('pcovr.gif', save_all=True, append_images=images, loop=0)"
   ]
  },
  {
   "cell_type": "code",
   "execution_count": 8,
   "id": "b9a938e2",
   "metadata": {},
   "outputs": [
    {
     "name": "stderr",
     "output_type": "stream",
     "text": [
      "/opt/miniconda3/lib/python3.9/site-packages/IPython/core/display.py:419: UserWarning: Consider using IPython.display.IFrame instead\n",
      "  warnings.warn(\"Consider using IPython.display.IFrame instead\")\n"
     ]
    },
    {
     "data": {
      "text/html": [
       "<iframe src=pcovr.gif width=324 height=324></iframe>"
      ],
      "text/plain": [
       "<IPython.core.display.HTML object>"
      ]
     },
     "execution_count": 8,
     "metadata": {},
     "output_type": "execute_result"
    }
   ],
   "source": [
    "iframe = '<iframe src=pcovr.gif width=324 height=324></iframe>'\n",
    "display.HTML(iframe)"
   ]
  },
  {
   "cell_type": "code",
   "execution_count": null,
   "id": "22d5e1b0",
   "metadata": {},
   "outputs": [],
   "source": []
  }
 ],
 "metadata": {
  "kernelspec": {
   "display_name": "Python 3 (ipykernel)",
   "language": "python",
   "name": "python3"
  },
  "language_info": {
   "codemirror_mode": {
    "name": "ipython",
    "version": 3
   },
   "file_extension": ".py",
   "mimetype": "text/x-python",
   "name": "python",
   "nbconvert_exporter": "python",
   "pygments_lexer": "ipython3",
   "version": "3.9.13"
  },
  "toc": {
   "base_numbering": 1,
   "nav_menu": {},
   "number_sections": true,
   "sideBar": true,
   "skip_h1_title": false,
   "title_cell": "Table of Contents",
   "title_sidebar": "Contents",
   "toc_cell": false,
   "toc_position": {},
   "toc_section_display": true,
   "toc_window_display": false
  }
 },
 "nbformat": 4,
 "nbformat_minor": 5
}
